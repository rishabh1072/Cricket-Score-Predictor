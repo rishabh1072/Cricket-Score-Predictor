{
  "nbformat": 4,
  "nbformat_minor": 0,
  "metadata": {
    "colab": {
      "name": "Cricket Score Predictor",
      "provenance": [],
      "include_colab_link": true
    },
    "kernelspec": {
      "name": "python3",
      "display_name": "Python 3"
    }
  },
  "cells": [
    {
      "cell_type": "markdown",
      "metadata": {
        "id": "view-in-github",
        "colab_type": "text"
      },
      "source": [
        "<a href=\"https://colab.research.google.com/github/rishabh1072/Cricket-Score-Predictor/blob/main/Cricket_Score_Predictor.ipynb\" target=\"_parent\"><img src=\"https://colab.research.google.com/assets/colab-badge.svg\" alt=\"Open In Colab\"/></a>"
      ]
    },
    {
      "cell_type": "code",
      "metadata": {
        "id": "sKbh6Wz5f6Wd"
      },
      "source": [
        "import pandas as pd\n",
        "dataset = pd.read_csv('/content/ipl.csv')\n",
        "X = dataset.iloc[:,[7,8,9,12,13]].values\n",
        "y = dataset.iloc[:, 14].values "
      ],
      "execution_count": 1,
      "outputs": []
    },
    {
      "cell_type": "code",
      "metadata": {
        "id": "G1q2y1wEKPDY",
        "colab": {
          "base_uri": "https://localhost:8080/"
        },
        "outputId": "5343248e-3f9e-4484-c479-70c905c4f0e7"
      },
      "source": [
        "X"
      ],
      "execution_count": 2,
      "outputs": [
        {
          "output_type": "execute_result",
          "data": {
            "text/plain": [
              "array([[1.00e+00, 0.00e+00, 1.00e-01, 0.00e+00, 0.00e+00],\n",
              "       [1.00e+00, 0.00e+00, 2.00e-01, 0.00e+00, 0.00e+00],\n",
              "       [2.00e+00, 0.00e+00, 2.00e-01, 0.00e+00, 0.00e+00],\n",
              "       ...,\n",
              "       [1.28e+02, 7.00e+00, 1.94e+01, 4.70e+01, 1.20e+01],\n",
              "       [1.29e+02, 7.00e+00, 1.95e+01, 4.70e+01, 1.30e+01],\n",
              "       [1.29e+02, 8.00e+00, 1.96e+01, 4.70e+01, 1.30e+01]])"
            ]
          },
          "metadata": {},
          "execution_count": 2
        }
      ]
    },
    {
      "cell_type": "code",
      "metadata": {
        "id": "K3JiPxrOKRZJ",
        "colab": {
          "base_uri": "https://localhost:8080/"
        },
        "outputId": "721766b1-c5d7-4ccd-a480-5085a61fbeb4"
      },
      "source": [
        "y"
      ],
      "execution_count": 3,
      "outputs": [
        {
          "output_type": "execute_result",
          "data": {
            "text/plain": [
              "array([222, 222, 222, ..., 129, 129, 129])"
            ]
          },
          "metadata": {},
          "execution_count": 3
        }
      ]
    },
    {
      "cell_type": "code",
      "metadata": {
        "id": "-gdCuEIIKodI"
      },
      "source": [
        "from sklearn.model_selection import train_test_split\n",
        "X_train, X_test, y_train, y_test = train_test_split(X, y, test_size = 0.25, random_state = 0)"
      ],
      "execution_count": 4,
      "outputs": []
    },
    {
      "cell_type": "code",
      "metadata": {
        "id": "8vaWwlAnLQdQ"
      },
      "source": [
        "from sklearn.preprocessing import StandardScaler\n",
        "sc = StandardScaler()\n",
        "X_train = sc.fit_transform(X_train)\n",
        "X_test = sc.transform(X_test)"
      ],
      "execution_count": 5,
      "outputs": []
    },
    {
      "cell_type": "code",
      "metadata": {
        "id": "bDoh-BZiLUj7",
        "colab": {
          "base_uri": "https://localhost:8080/"
        },
        "outputId": "89cb92e3-830c-4a45-a66d-c51b3129a899"
      },
      "source": [
        "from sklearn.linear_model import LinearRegression\n",
        "lin = LinearRegression()\n",
        "lin.fit(X_train,y_train)"
      ],
      "execution_count": 6,
      "outputs": [
        {
          "output_type": "execute_result",
          "data": {
            "text/plain": [
              "LinearRegression(copy_X=True, fit_intercept=True, n_jobs=None, normalize=False)"
            ]
          },
          "metadata": {},
          "execution_count": 6
        }
      ]
    },
    {
      "cell_type": "code",
      "metadata": {
        "id": "HfXvTd7qLYdw",
        "colab": {
          "base_uri": "https://localhost:8080/"
        },
        "outputId": "0e639527-5403-4eee-ba9c-555f85d04459"
      },
      "source": [
        "from sklearn.ensemble import RandomForestRegressor\n",
        "lin = RandomForestRegressor(n_estimators=100,max_features=None)\n",
        "lin.fit(X_train,y_train)"
      ],
      "execution_count": 7,
      "outputs": [
        {
          "output_type": "execute_result",
          "data": {
            "text/plain": [
              "RandomForestRegressor(bootstrap=True, ccp_alpha=0.0, criterion='mse',\n",
              "                      max_depth=None, max_features=None, max_leaf_nodes=None,\n",
              "                      max_samples=None, min_impurity_decrease=0.0,\n",
              "                      min_impurity_split=None, min_samples_leaf=1,\n",
              "                      min_samples_split=2, min_weight_fraction_leaf=0.0,\n",
              "                      n_estimators=100, n_jobs=None, oob_score=False,\n",
              "                      random_state=None, verbose=0, warm_start=False)"
            ]
          },
          "metadata": {},
          "execution_count": 7
        }
      ]
    },
    {
      "cell_type": "code",
      "metadata": {
        "id": "UcA0GEPeLcIw"
      },
      "source": [
        "def custom_accuracy(y_test,y_pred,thresold):\n",
        "    right = 0\n",
        "    l = len(y_pred)\n",
        "    for i in range(0,l):\n",
        "        if(abs(y_pred[i]-y_test[i]) <= thresold):\n",
        "            right += 1\n",
        "    return ((right/l)*100)"
      ],
      "execution_count": 8,
      "outputs": []
    },
    {
      "cell_type": "code",
      "metadata": {
        "id": "hUn5FJGILm07",
        "colab": {
          "base_uri": "https://localhost:8080/"
        },
        "outputId": "fb2d1838-c03a-460f-be06-07f3be8cfeb9"
      },
      "source": [
        "y_pred = lin.predict(X_test)\n",
        "score = lin.score(X_test,y_test)*100\n",
        "print(\"R-squared value:\" , score)\n",
        "print(\"Custom accuracy:\" , custom_accuracy(y_test,y_pred,10))"
      ],
      "execution_count": 9,
      "outputs": [
        {
          "output_type": "stream",
          "name": "stdout",
          "text": [
            "R-squared value: 67.36302670874524\n",
            "Custom accuracy: 65.5967164807409\n"
          ]
        }
      ]
    },
    {
      "cell_type": "code",
      "metadata": {
        "id": "OVK5h_6JMISr",
        "colab": {
          "base_uri": "https://localhost:8080/"
        },
        "outputId": "e5678107-3e93-4375-ba8e-181b39c2808a"
      },
      "source": [
        "import numpy as np\n",
        "new_prediction = lin.predict(sc.transform(np.array([[100,0,13,50,50]])))\n",
        "print(\"Prediction score:\" , new_prediction)"
      ],
      "execution_count": 10,
      "outputs": [
        {
          "output_type": "stream",
          "name": "stdout",
          "text": [
            "Prediction score: [175.51]\n"
          ]
        }
      ]
    },
    {
      "cell_type": "code",
      "metadata": {
        "id": "UEg5oKHvMNFk"
      },
      "source": [
        ""
      ],
      "execution_count": null,
      "outputs": []
    }
  ]
}